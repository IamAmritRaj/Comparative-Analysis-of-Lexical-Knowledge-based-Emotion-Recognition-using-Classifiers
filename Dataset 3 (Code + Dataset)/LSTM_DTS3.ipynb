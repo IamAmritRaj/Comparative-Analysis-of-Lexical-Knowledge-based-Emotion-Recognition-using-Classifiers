{
 "cells": [
  {
   "cell_type": "code",
   "execution_count": 6,
   "id": "ef965ddc",
   "metadata": {},
   "outputs": [
    {
     "data": {
      "text/plain": [
       "array([0, 3, 2, 5, 4, 1])"
      ]
     },
     "execution_count": 6,
     "metadata": {},
     "output_type": "execute_result"
    }
   ],
   "source": [
    "import pandas as pd\n",
    "df=pd.read_csv(\"training.csv\")\n",
    "df['label'].unique()"
   ]
  },
  {
   "cell_type": "code",
   "execution_count": 12,
   "id": "b5081525",
   "metadata": {},
   "outputs": [
    {
     "name": "stdout",
     "output_type": "stream",
     "text": [
      "Epoch 1/10\n",
      "450/450 [==============================] - 34s 71ms/step - loss: 1.2840 - accuracy: 0.5095 - val_loss: 0.6188 - val_accuracy: 0.8075\n",
      "Epoch 2/10\n",
      "450/450 [==============================] - 43s 96ms/step - loss: 0.3464 - accuracy: 0.8908 - val_loss: 0.2558 - val_accuracy: 0.9081\n",
      "Epoch 3/10\n",
      "450/450 [==============================] - 43s 96ms/step - loss: 0.1633 - accuracy: 0.9430 - val_loss: 0.1966 - val_accuracy: 0.9217\n",
      "Epoch 4/10\n",
      "450/450 [==============================] - 40s 88ms/step - loss: 0.1008 - accuracy: 0.9650 - val_loss: 0.1939 - val_accuracy: 0.9247\n",
      "Epoch 5/10\n",
      "450/450 [==============================] - 43s 95ms/step - loss: 0.0771 - accuracy: 0.9724 - val_loss: 0.2011 - val_accuracy: 0.9236\n",
      "Epoch 6/10\n",
      "450/450 [==============================] - 42s 93ms/step - loss: 0.0674 - accuracy: 0.9767 - val_loss: 0.2011 - val_accuracy: 0.9258\n",
      "Epoch 7/10\n",
      "450/450 [==============================] - 42s 93ms/step - loss: 0.0506 - accuracy: 0.9826 - val_loss: 0.2061 - val_accuracy: 0.9317\n",
      "Epoch 8/10\n",
      "450/450 [==============================] - 42s 93ms/step - loss: 0.0391 - accuracy: 0.9862 - val_loss: 0.2013 - val_accuracy: 0.9269\n",
      "Epoch 9/10\n",
      "450/450 [==============================] - 42s 92ms/step - loss: 0.0378 - accuracy: 0.9867 - val_loss: 0.2638 - val_accuracy: 0.9192\n",
      "Epoch 10/10\n",
      "450/450 [==============================] - 42s 92ms/step - loss: 0.0312 - accuracy: 0.9892 - val_loss: 0.2309 - val_accuracy: 0.9231\n",
      "Test Loss: 0.2308618277311325\n",
      "Test Accuracy: 0.9230555295944214\n"
     ]
    }
   ],
   "source": [
    "import pandas as pd\n",
    "import numpy as np\n",
    "from keras.models import Sequential\n",
    "from keras.layers import LSTM, Dense, Embedding, SpatialDropout1D\n",
    "from keras.preprocessing.text import Tokenizer\n",
    "from keras.utils import pad_sequences\n",
    "from sklearn.model_selection import train_test_split\n",
    "\n",
    "\n",
    "data = pd.read_csv('training.csv')\n",
    "\n",
    "\n",
    "text = data['text'].values\n",
    "labels = data['label'].values\n",
    "\n",
    "# Tokenize the text\n",
    "tokenizer = Tokenizer()\n",
    "tokenizer.fit_on_texts(text)\n",
    "vocab_size = len(tokenizer.word_index) + 1\n",
    "sequences = tokenizer.texts_to_sequences(text)\n",
    "max_sequence_length = max([len(seq) for seq in sequences])\n",
    "padded_sequences = pad_sequences(sequences, maxlen=max_sequence_length)\n",
    "\n",
    "# Split the data into training and testing sets\n",
    "X_train, X_test, y_train, y_test = train_test_split(padded_sequences, labels, test_size=0.2, random_state=42)\n",
    "\n",
    "\n",
    "model = Sequential()\n",
    "model.add(Embedding(vocab_size, 128, input_length=max_sequence_length))\n",
    "model.add(SpatialDropout1D(0.4))\n",
    "model.add(LSTM(128, dropout=0.2, recurrent_dropout=0.2))\n",
    "model.add(Dense(6, activation='softmax'))\n",
    "\n",
    "# Compile the model\n",
    "model.compile(loss='sparse_categorical_crossentropy', optimizer='adam', metrics=['accuracy'])\n",
    "\n",
    "# Train the model\n",
    "model.fit(X_train, y_train, epochs=10, batch_size=32, validation_data=(X_test, y_test))\n",
    "\n",
    "# Evaluate the model\n",
    "loss, accuracy = model.evaluate(X_test, y_test, verbose=0)\n",
    "print('Test Loss:', loss)\n",
    "print('Test Accuracy:', accuracy)\n"
   ]
  },
  {
   "cell_type": "code",
   "execution_count": 13,
   "id": "5059d31d",
   "metadata": {},
   "outputs": [
    {
     "ename": "AttributeError",
     "evalue": "'Sequential' object has no attribute 'predict_classes'",
     "output_type": "error",
     "traceback": [
      "\u001b[0;31m---------------------------------------------------------------------------\u001b[0m",
      "\u001b[0;31mAttributeError\u001b[0m                            Traceback (most recent call last)",
      "Cell \u001b[0;32mIn[13], line 2\u001b[0m\n\u001b[1;32m      1\u001b[0m \u001b[38;5;28;01mfrom\u001b[39;00m \u001b[38;5;21;01msklearn\u001b[39;00m\u001b[38;5;21;01m.\u001b[39;00m\u001b[38;5;21;01mmetrics\u001b[39;00m \u001b[38;5;28;01mimport\u001b[39;00m classification_report\n\u001b[0;32m----> 2\u001b[0m y_pred \u001b[38;5;241m=\u001b[39m \u001b[43mmodel\u001b[49m\u001b[38;5;241;43m.\u001b[39;49m\u001b[43mpredict_classes\u001b[49m(X_test)\n\u001b[1;32m      4\u001b[0m \u001b[38;5;66;03m# Calculate precision, recall, and F1 score\u001b[39;00m\n\u001b[1;32m      5\u001b[0m report \u001b[38;5;241m=\u001b[39m classification_report(y_test, y_pred)\n",
      "\u001b[0;31mAttributeError\u001b[0m: 'Sequential' object has no attribute 'predict_classes'"
     ]
    }
   ],
   "source": [
    "from sklearn.metrics import classification_report\n",
    "y_pred = model.predict_classes(X_test)\n",
    "\n",
    "# Calculate precision, recall, and F1 score\n",
    "report = classification_report(y_test, y_pred)\n",
    "print(report)"
   ]
  },
  {
   "cell_type": "code",
   "execution_count": 15,
   "id": "22ef7e96",
   "metadata": {},
   "outputs": [
    {
     "name": "stdout",
     "output_type": "stream",
     "text": [
      "Epoch 1/10\n",
      "450/450 [==============================] - 45s 96ms/step - loss: 1.2745 - accuracy: 0.5126 - val_loss: 0.6143 - val_accuracy: 0.7989\n",
      "Epoch 2/10\n",
      "450/450 [==============================] - 43s 96ms/step - loss: 0.3317 - accuracy: 0.8934 - val_loss: 0.2303 - val_accuracy: 0.9192\n",
      "Epoch 3/10\n",
      "450/450 [==============================] - 43s 96ms/step - loss: 0.1636 - accuracy: 0.9442 - val_loss: 0.2224 - val_accuracy: 0.9133\n",
      "Epoch 4/10\n",
      "450/450 [==============================] - 43s 96ms/step - loss: 0.1108 - accuracy: 0.9596 - val_loss: 0.2087 - val_accuracy: 0.9208\n",
      "Epoch 5/10\n",
      "450/450 [==============================] - 40s 88ms/step - loss: 0.0809 - accuracy: 0.9706 - val_loss: 0.1971 - val_accuracy: 0.9219\n",
      "Epoch 6/10\n",
      "450/450 [==============================] - 44s 97ms/step - loss: 0.0637 - accuracy: 0.9792 - val_loss: 0.1978 - val_accuracy: 0.9253\n",
      "Epoch 7/10\n",
      "450/450 [==============================] - 43s 96ms/step - loss: 0.0520 - accuracy: 0.9813 - val_loss: 0.2008 - val_accuracy: 0.9242\n",
      "Epoch 8/10\n",
      "450/450 [==============================] - 44s 97ms/step - loss: 0.0444 - accuracy: 0.9828 - val_loss: 0.2556 - val_accuracy: 0.9272\n",
      "Epoch 9/10\n",
      "450/450 [==============================] - 44s 98ms/step - loss: 0.0429 - accuracy: 0.9846 - val_loss: 0.2090 - val_accuracy: 0.9292\n",
      "Epoch 10/10\n",
      "450/450 [==============================] - 43s 96ms/step - loss: 0.0307 - accuracy: 0.9885 - val_loss: 0.2424 - val_accuracy: 0.9197\n"
     ]
    },
    {
     "ename": "AttributeError",
     "evalue": "'Sequential' object has no attribute 'predict_classes'",
     "output_type": "error",
     "traceback": [
      "\u001b[0;31m---------------------------------------------------------------------------\u001b[0m",
      "\u001b[0;31mAttributeError\u001b[0m                            Traceback (most recent call last)",
      "Cell \u001b[0;32mIn[15], line 42\u001b[0m\n\u001b[1;32m     39\u001b[0m model\u001b[38;5;241m.\u001b[39mfit(X_train, y_train, epochs\u001b[38;5;241m=\u001b[39m\u001b[38;5;241m10\u001b[39m, batch_size\u001b[38;5;241m=\u001b[39m\u001b[38;5;241m32\u001b[39m, validation_data\u001b[38;5;241m=\u001b[39m(X_test, y_test))\n\u001b[1;32m     41\u001b[0m \u001b[38;5;66;03m# Make predictions\u001b[39;00m\n\u001b[0;32m---> 42\u001b[0m y_pred \u001b[38;5;241m=\u001b[39m \u001b[43mmodel\u001b[49m\u001b[38;5;241;43m.\u001b[39;49m\u001b[43mpredict_classes\u001b[49m(X_test)\n\u001b[1;32m     44\u001b[0m \u001b[38;5;66;03m# Calculate precision, recall, and F1 score\u001b[39;00m\n\u001b[1;32m     45\u001b[0m report \u001b[38;5;241m=\u001b[39m classification_report(y_test, y_pred)\n",
      "\u001b[0;31mAttributeError\u001b[0m: 'Sequential' object has no attribute 'predict_classes'"
     ]
    }
   ],
   "source": [
    "import pandas as pd\n",
    "import numpy as np\n",
    "from keras.models import Sequential\n",
    "from keras.layers import LSTM, Dense, Embedding, SpatialDropout1D\n",
    "from keras.preprocessing.text import Tokenizer\n",
    "from keras.utils import pad_sequences\n",
    "from sklearn.model_selection import train_test_split\n",
    "from sklearn.metrics import classification_report\n",
    "\n",
    "# Load the dataset\n",
    "data = pd.read_csv('training.csv')\n",
    "\n",
    "# Prepare the data\n",
    "text = data['text'].values\n",
    "labels = data['label'].values\n",
    "\n",
    "# Tokenize the text\n",
    "tokenizer = Tokenizer()\n",
    "tokenizer.fit_on_texts(text)\n",
    "vocab_size = len(tokenizer.word_index) + 1\n",
    "sequences = tokenizer.texts_to_sequences(text)\n",
    "max_sequence_length = max([len(seq) for seq in sequences])\n",
    "padded_sequences = pad_sequences(sequences, maxlen=max_sequence_length)\n",
    "\n",
    "# Split the data into training and testing sets\n",
    "X_train, X_test, y_train, y_test = train_test_split(padded_sequences, labels, test_size=0.2, random_state=42)\n",
    "\n",
    "# Define the LSTM model\n",
    "model = Sequential()\n",
    "model.add(Embedding(vocab_size, 128, input_length=max_sequence_length))\n",
    "model.add(SpatialDropout1D(0.4))\n",
    "model.add(LSTM(128, dropout=0.2, recurrent_dropout=0.2))\n",
    "model.add(Dense(6, activation='softmax'))\n",
    "\n",
    "# Compile the model\n",
    "model.compile(loss='sparse_categorical_crossentropy', optimizer='adam', metrics=['accuracy'])\n",
    "\n",
    "# Train the model\n",
    "model.fit(X_train, y_train, epochs=10, batch_size=32, validation_data=(X_test, y_test))\n",
    "\n",
    "# Make predictions\n",
    "y_pred = model.predict_classes(X_test)\n",
    "\n",
    "\n",
    "report = classification_report(y_test, y_pred)\n",
    "print(report)\n"
   ]
  },
  {
   "cell_type": "code",
   "execution_count": 16,
   "id": "5d805e0f",
   "metadata": {},
   "outputs": [
    {
     "name": "stdout",
     "output_type": "stream",
     "text": [
      "Epoch 1/10\n",
      "450/450 [==============================] - 46s 99ms/step - loss: 1.2389 - accuracy: 0.5272 - val_loss: 0.6031 - val_accuracy: 0.8272\n",
      "Epoch 2/10\n",
      "450/450 [==============================] - 43s 97ms/step - loss: 0.3149 - accuracy: 0.9005 - val_loss: 0.2212 - val_accuracy: 0.9208\n",
      "Epoch 3/10\n",
      "450/450 [==============================] - 43s 96ms/step - loss: 0.1549 - accuracy: 0.9458 - val_loss: 0.2101 - val_accuracy: 0.9183\n",
      "Epoch 4/10\n",
      "450/450 [==============================] - 40s 88ms/step - loss: 0.1023 - accuracy: 0.9617 - val_loss: 0.1879 - val_accuracy: 0.9214\n",
      "Epoch 5/10\n",
      "450/450 [==============================] - 44s 97ms/step - loss: 0.0808 - accuracy: 0.9701 - val_loss: 0.2039 - val_accuracy: 0.9264\n",
      "Epoch 6/10\n",
      "450/450 [==============================] - 43s 96ms/step - loss: 0.0600 - accuracy: 0.9778 - val_loss: 0.1886 - val_accuracy: 0.9269\n",
      "Epoch 7/10\n",
      "450/450 [==============================] - 43s 96ms/step - loss: 0.0505 - accuracy: 0.9813 - val_loss: 0.2061 - val_accuracy: 0.9286\n",
      "Epoch 8/10\n",
      "450/450 [==============================] - 41s 90ms/step - loss: 0.0420 - accuracy: 0.9847 - val_loss: 0.2517 - val_accuracy: 0.9161\n",
      "Epoch 9/10\n",
      "450/450 [==============================] - 44s 97ms/step - loss: 0.0359 - accuracy: 0.9861 - val_loss: 0.2275 - val_accuracy: 0.9269\n",
      "Epoch 10/10\n",
      "450/450 [==============================] - 44s 98ms/step - loss: 0.0305 - accuracy: 0.9892 - val_loss: 0.2478 - val_accuracy: 0.9264\n",
      "113/113 [==============================] - 2s 16ms/step\n",
      "              precision    recall  f1-score   support\n",
      "\n",
      "           0       0.96      0.97      0.96      1092\n",
      "           1       0.92      0.96      0.94      1176\n",
      "           2       0.88      0.77      0.82       318\n",
      "           3       0.92      0.93      0.92       462\n",
      "           4       0.94      0.84      0.89       415\n",
      "           5       0.80      0.87      0.84       137\n",
      "\n",
      "    accuracy                           0.93      3600\n",
      "   macro avg       0.90      0.89      0.90      3600\n",
      "weighted avg       0.93      0.93      0.93      3600\n",
      "\n"
     ]
    }
   ],
   "source": [
    "import pandas as pd\n",
    "import numpy as np\n",
    "from keras.models import Sequential\n",
    "from keras.layers import LSTM, Dense, Embedding, SpatialDropout1D\n",
    "from keras.preprocessing.text import Tokenizer\n",
    "from keras.utils import pad_sequences\n",
    "from sklearn.model_selection import train_test_split\n",
    "from sklearn.metrics import classification_report\n",
    "\n",
    "# Load the dataset\n",
    "data = pd.read_csv('training.csv')\n",
    "\n",
    "# Prepare the data\n",
    "text = data['text'].values\n",
    "labels = data['label'].values\n",
    "\n",
    "# Tokenize the text\n",
    "tokenizer = Tokenizer()\n",
    "tokenizer.fit_on_texts(text)\n",
    "vocab_size = len(tokenizer.word_index) + 1\n",
    "sequences = tokenizer.texts_to_sequences(text)\n",
    "max_sequence_length = max([len(seq) for seq in sequences])\n",
    "padded_sequences = pad_sequences(sequences, maxlen=max_sequence_length)\n",
    "\n",
    "# Split the data into training and testing sets\n",
    "X_train, X_test, y_train, y_test = train_test_split(padded_sequences, labels, test_size=0.2, random_state=42)\n",
    "\n",
    "# Define the LSTM model\n",
    "model = Sequential()\n",
    "model.add(Embedding(vocab_size, 128, input_length=max_sequence_length))\n",
    "model.add(SpatialDropout1D(0.4))\n",
    "model.add(LSTM(128, dropout=0.2, recurrent_dropout=0.2))\n",
    "model.add(Dense(6, activation='softmax'))\n",
    "\n",
    "# Compile the model\n",
    "model.compile(loss='sparse_categorical_crossentropy', optimizer='adam', metrics=['accuracy'])\n",
    "\n",
    "# Train the model\n",
    "model.fit(X_train, y_train, epochs=10, batch_size=32, validation_data=(X_test, y_test))\n",
    "\n",
    "# Make predictions\n",
    "y_pred_prob = model.predict(X_test)\n",
    "y_pred = np.argmax(y_pred_prob, axis=1)\n",
    "\n",
    "# Calculate precision, recall, and F1 score\n",
    "report = classification_report(y_test, y_pred)\n",
    "print(report)\n"
   ]
  },
  {
   "cell_type": "code",
   "execution_count": null,
   "id": "c36a22fc",
   "metadata": {},
   "outputs": [],
   "source": []
  }
 ],
 "metadata": {
  "kernelspec": {
   "display_name": "Python 3 (ipykernel)",
   "language": "python",
   "name": "python3"
  },
  "language_info": {
   "codemirror_mode": {
    "name": "ipython",
    "version": 3
   },
   "file_extension": ".py",
   "mimetype": "text/x-python",
   "name": "python",
   "nbconvert_exporter": "python",
   "pygments_lexer": "ipython3",
   "version": "3.11.0"
  }
 },
 "nbformat": 4,
 "nbformat_minor": 5
}
