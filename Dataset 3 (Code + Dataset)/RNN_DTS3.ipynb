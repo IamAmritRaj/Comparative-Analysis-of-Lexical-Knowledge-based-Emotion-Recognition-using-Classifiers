{
 "cells": [
  {
   "cell_type": "code",
   "execution_count": 1,
   "id": "560f27ff",
   "metadata": {},
   "outputs": [
    {
     "name": "stderr",
     "output_type": "stream",
     "text": [
      "2023-05-30 16:19:16.428041: I tensorflow/core/platform/cpu_feature_guard.cc:182] This TensorFlow binary is optimized to use available CPU instructions in performance-critical operations.\n",
      "To enable the following instructions: AVX2 FMA, in other operations, rebuild TensorFlow with the appropriate compiler flags.\n"
     ]
    },
    {
     "name": "stdout",
     "output_type": "stream",
     "text": [
      "Epoch 1/10\n",
      "450/450 [==============================] - 13s 26ms/step - loss: 1.4616 - accuracy: 0.4385 - val_loss: 1.1423 - val_accuracy: 0.6231\n",
      "Epoch 2/10\n",
      "450/450 [==============================] - 11s 25ms/step - loss: 0.7811 - accuracy: 0.7365 - val_loss: 1.0645 - val_accuracy: 0.6414\n",
      "Epoch 3/10\n",
      "450/450 [==============================] - 12s 27ms/step - loss: 0.4447 - accuracy: 0.8549 - val_loss: 0.8254 - val_accuracy: 0.7483\n",
      "Epoch 4/10\n",
      "450/450 [==============================] - 11s 25ms/step - loss: 0.1731 - accuracy: 0.9476 - val_loss: 1.1490 - val_accuracy: 0.6761\n",
      "Epoch 5/10\n",
      "450/450 [==============================] - 12s 26ms/step - loss: 0.0852 - accuracy: 0.9762 - val_loss: 0.9459 - val_accuracy: 0.7358\n",
      "Epoch 6/10\n",
      "450/450 [==============================] - 12s 28ms/step - loss: 0.0700 - accuracy: 0.9796 - val_loss: 1.1220 - val_accuracy: 0.7128\n",
      "Epoch 7/10\n",
      "450/450 [==============================] - 12s 28ms/step - loss: 0.2012 - accuracy: 0.9315 - val_loss: 1.1385 - val_accuracy: 0.7111\n",
      "Epoch 8/10\n",
      "450/450 [==============================] - 12s 26ms/step - loss: 0.0799 - accuracy: 0.9758 - val_loss: 1.3823 - val_accuracy: 0.6544\n",
      "Epoch 9/10\n",
      "450/450 [==============================] - 13s 28ms/step - loss: 0.0495 - accuracy: 0.9851 - val_loss: 1.1675 - val_accuracy: 0.7156\n",
      "Epoch 10/10\n",
      "450/450 [==============================] - 12s 26ms/step - loss: 0.0199 - accuracy: 0.9956 - val_loss: 1.2394 - val_accuracy: 0.7147\n",
      "113/113 [==============================] - 1s 5ms/step\n",
      "Classification Report:\n",
      "              precision    recall  f1-score   support\n",
      "\n",
      "           0       0.82      0.88      0.85      1092\n",
      "           1       0.76      0.76      0.76      1176\n",
      "           2       0.46      0.39      0.43       318\n",
      "           3       0.55      0.65      0.59       462\n",
      "           4       0.70      0.60      0.65       415\n",
      "           5       0.48      0.35      0.41       137\n",
      "\n",
      "    accuracy                           0.71      3600\n",
      "   macro avg       0.63      0.60      0.61      3600\n",
      "weighted avg       0.71      0.71      0.71      3600\n",
      "\n"
     ]
    }
   ],
   "source": [
    "import pandas as pd\n",
    "import numpy as np\n",
    "from keras.models import Sequential\n",
    "from keras.layers import Dense, Embedding, SimpleRNN\n",
    "from keras.preprocessing.text import Tokenizer\n",
    "from keras.utils import pad_sequences\n",
    "from sklearn.model_selection import train_test_split\n",
    "from sklearn.metrics import classification_report\n",
    "\n",
    "# Load the dataset\n",
    "data = pd.read_csv('training.csv')\n",
    "\n",
    "# Split the data into text and labels\n",
    "text = data['text'].astype(str).values\n",
    "labels = data['label'].values\n",
    "\n",
    "# Tokenize the text\n",
    "tokenizer = Tokenizer()\n",
    "tokenizer.fit_on_texts(text)\n",
    "vocab_size = len(tokenizer.word_index) + 1\n",
    "sequences = tokenizer.texts_to_sequences(text)\n",
    "max_sequence_length = max([len(seq) for seq in sequences])\n",
    "padded_sequences = pad_sequences(sequences, maxlen=max_sequence_length)\n",
    "\n",
    "# Split the data into training and testing sets\n",
    "X_train, X_test, y_train, y_test = train_test_split(padded_sequences, labels, test_size=0.2, random_state=42)\n",
    "\n",
    "# Define the RNN model\n",
    "model = Sequential()\n",
    "model.add(Embedding(vocab_size, 128, input_length=max_sequence_length))\n",
    "model.add(SimpleRNN(128))\n",
    "model.add(Dense(6, activation='softmax'))\n",
    "\n",
    "# Compile the model\n",
    "model.compile(loss='sparse_categorical_crossentropy', optimizer='adam', metrics=['accuracy'])\n",
    "\n",
    "# Train the model\n",
    "model.fit(X_train, y_train, epochs=10, batch_size=32, validation_data=(X_test, y_test))\n",
    "\n",
    "# Make predictions\n",
    "y_pred_prob = model.predict(X_test)\n",
    "y_pred = np.argmax(y_pred_prob, axis=1)\n",
    "\n",
    "# Calculate evaluation metrics\n",
    "report = classification_report(y_test, y_pred)\n",
    "\n",
    "# Print the evaluation metrics\n",
    "print(\"Classification Report:\")\n",
    "print(report)\n"
   ]
  },
  {
   "cell_type": "code",
   "execution_count": null,
   "id": "a6b5f973",
   "metadata": {},
   "outputs": [],
   "source": []
  }
 ],
 "metadata": {
  "kernelspec": {
   "display_name": "Python 3 (ipykernel)",
   "language": "python",
   "name": "python3"
  },
  "language_info": {
   "codemirror_mode": {
    "name": "ipython",
    "version": 3
   },
   "file_extension": ".py",
   "mimetype": "text/x-python",
   "name": "python",
   "nbconvert_exporter": "python",
   "pygments_lexer": "ipython3",
   "version": "3.11.0"
  }
 },
 "nbformat": 4,
 "nbformat_minor": 5
}
