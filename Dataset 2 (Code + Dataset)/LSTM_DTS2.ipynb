{
 "cells": [
  {
   "cell_type": "code",
   "execution_count": 1,
   "id": "12ee668e",
   "metadata": {},
   "outputs": [
    {
     "data": {
      "text/plain": [
       "array(['neutral', 'joy', 'sadness', 'fear', 'surprise', 'anger', 'shame',\n",
       "       'disgust'], dtype=object)"
      ]
     },
     "execution_count": 1,
     "metadata": {},
     "output_type": "execute_result"
    }
   ],
   "source": [
    "import pandas as pd\n",
    "df=pd.read_csv(\"emotion_dataset_2.csv\")\n",
    "df['Emotion'].unique()"
   ]
  },
  {
   "cell_type": "code",
   "execution_count": 5,
   "id": "e6566e06",
   "metadata": {},
   "outputs": [
    {
     "name": "stdout",
     "output_type": "stream",
     "text": [
      "Epoch 1/10\n",
      "859/859 [==============================] - 139s 158ms/step - loss: 1.3765 - accuracy: 0.4995 - val_loss: 1.0860 - val_accuracy: 0.6194\n",
      "Epoch 2/10\n",
      "859/859 [==============================] - 131s 153ms/step - loss: 0.8489 - accuracy: 0.7109 - val_loss: 1.0541 - val_accuracy: 0.6382\n",
      "Epoch 3/10\n",
      "859/859 [==============================] - 135s 157ms/step - loss: 0.5799 - accuracy: 0.8076 - val_loss: 1.1091 - val_accuracy: 0.6419\n",
      "Epoch 4/10\n",
      "859/859 [==============================] - 135s 157ms/step - loss: 0.4317 - accuracy: 0.8586 - val_loss: 1.2479 - val_accuracy: 0.6322\n",
      "Epoch 5/10\n",
      "859/859 [==============================] - 128s 149ms/step - loss: 0.3454 - accuracy: 0.8860 - val_loss: 1.4062 - val_accuracy: 0.6333\n",
      "Epoch 6/10\n",
      "859/859 [==============================] - 135s 158ms/step - loss: 0.2942 - accuracy: 0.9026 - val_loss: 1.4685 - val_accuracy: 0.6174\n",
      "Epoch 7/10\n",
      "859/859 [==============================] - 158s 184ms/step - loss: 0.2546 - accuracy: 0.9163 - val_loss: 1.5400 - val_accuracy: 0.6149\n",
      "Epoch 8/10\n",
      "859/859 [==============================] - 160s 186ms/step - loss: 0.2263 - accuracy: 0.9252 - val_loss: 1.6416 - val_accuracy: 0.6172\n",
      "Epoch 9/10\n",
      "859/859 [==============================] - 168s 195ms/step - loss: 0.1985 - accuracy: 0.9342 - val_loss: 1.7157 - val_accuracy: 0.6146\n",
      "Epoch 10/10\n",
      "859/859 [==============================] - 171s 199ms/step - loss: 0.1788 - accuracy: 0.9402 - val_loss: 1.7826 - val_accuracy: 0.6089\n",
      "215/215 [==============================] - 6s 25ms/step\n",
      "Accuracy: 0.6089426157879406\n",
      "Classification Report:\n",
      "              precision    recall  f1-score   support\n",
      "\n",
      "           0       0.56      0.57      0.56       860\n",
      "           1       0.29      0.24      0.26       141\n",
      "           2       0.71      0.66      0.69      1090\n",
      "           3       0.64      0.72      0.68      2176\n",
      "           4       0.69      0.65      0.67       363\n",
      "           5       0.56      0.54      0.55      1364\n",
      "           6       0.82      0.92      0.87        25\n",
      "           7       0.52      0.45      0.48       847\n",
      "\n",
      "    accuracy                           0.61      6866\n",
      "   macro avg       0.60      0.59      0.59      6866\n",
      "weighted avg       0.61      0.61      0.61      6866\n",
      "\n"
     ]
    }
   ],
   "source": [
    "import pandas as pd\n",
    "import numpy as np\n",
    "from keras.models import Sequential\n",
    "from keras.layers import LSTM, Dense, Embedding, SpatialDropout1D\n",
    "from keras.preprocessing.text import Tokenizer\n",
    "from keras.utils import pad_sequences\n",
    "from sklearn.model_selection import train_test_split\n",
    "from sklearn.preprocessing import LabelEncoder\n",
    "from sklearn.metrics import classification_report, accuracy_score\n",
    "\n",
    "# Load the dataset\n",
    "data = pd.read_csv('emotion_dataset_2.csv')\n",
    "\n",
    "# Drop rows with missing values\n",
    "data.dropna(subset=['Clean_Text', 'Emotion'], inplace=True)\n",
    "\n",
    "# Prepare the data\n",
    "text = data['Clean_Text'].astype(str).values\n",
    "labels = data['Emotion'].values\n",
    "\n",
    "# Encode labels to numeric values\n",
    "label_encoder = LabelEncoder()\n",
    "labels = label_encoder.fit_transform(labels)\n",
    "\n",
    "# Tokenize the text\n",
    "tokenizer = Tokenizer()\n",
    "tokenizer.fit_on_texts(text)\n",
    "vocab_size = len(tokenizer.word_index) + 1\n",
    "sequences = tokenizer.texts_to_sequences(text)\n",
    "max_sequence_length = max([len(seq) for seq in sequences])\n",
    "padded_sequences = pad_sequences(sequences, maxlen=max_sequence_length)\n",
    "\n",
    "# Split the data into training and testing sets\n",
    "X_train, X_test, y_train, y_test = train_test_split(padded_sequences, labels, test_size=0.2, random_state=42)\n",
    "\n",
    "# Define the LSTM model\n",
    "model = Sequential()\n",
    "model.add(Embedding(vocab_size, 128, input_length=max_sequence_length))\n",
    "model.add(SpatialDropout1D(0.4))\n",
    "model.add(LSTM(128, dropout=0.2, recurrent_dropout=0.2))\n",
    "model.add(Dense(8, activation='softmax'))\n",
    "\n",
    "# Compile the model\n",
    "model.compile(loss='sparse_categorical_crossentropy', optimizer='adam', metrics=['accuracy'])\n",
    "\n",
    "# Train the model\n",
    "model.fit(X_train, y_train, epochs=10, batch_size=32, validation_data=(X_test, y_test))\n",
    "\n",
    "# Make predictions\n",
    "y_pred_prob = model.predict(X_test)\n",
    "y_pred = np.argmax(y_pred_prob, axis=1)\n",
    "\n",
    "# Calculate evaluation metrics\n",
    "accuracy = accuracy_score(y_test, y_pred)\n",
    "report = classification_report(y_test, y_pred)\n",
    "\n",
    "# Print the evaluation metrics\n",
    "print(\"Accuracy:\", accuracy)\n",
    "print(\"Classification Report:\")\n",
    "print(report)\n"
   ]
  },
  {
   "cell_type": "code",
   "execution_count": null,
   "id": "9c053067",
   "metadata": {},
   "outputs": [],
   "source": []
  }
 ],
 "metadata": {
  "kernelspec": {
   "display_name": "Python 3 (ipykernel)",
   "language": "python",
   "name": "python3"
  },
  "language_info": {
   "codemirror_mode": {
    "name": "ipython",
    "version": 3
   },
   "file_extension": ".py",
   "mimetype": "text/x-python",
   "name": "python",
   "nbconvert_exporter": "python",
   "pygments_lexer": "ipython3",
   "version": "3.11.0"
  }
 },
 "nbformat": 4,
 "nbformat_minor": 5
}
