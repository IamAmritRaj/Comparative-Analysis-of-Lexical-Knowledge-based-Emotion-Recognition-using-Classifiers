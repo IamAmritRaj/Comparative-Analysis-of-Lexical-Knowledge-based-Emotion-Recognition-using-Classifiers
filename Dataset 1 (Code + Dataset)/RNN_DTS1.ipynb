{
 "cells": [
  {
   "cell_type": "code",
   "execution_count": 2,
   "id": "8a79891d",
   "metadata": {},
   "outputs": [
    {
     "name": "stdout",
     "output_type": "stream",
     "text": [
      "Epoch 1/5\n",
      "1870/1870 [==============================] - 212s 113ms/step - loss: 2.2225 - accuracy: 0.2666 - val_loss: 2.0488 - val_accuracy: 0.3321\n",
      "Epoch 2/5\n",
      "1870/1870 [==============================] - 203s 109ms/step - loss: 1.5874 - accuracy: 0.4954 - val_loss: 2.0720 - val_accuracy: 0.3584\n",
      "Epoch 3/5\n",
      "1870/1870 [==============================] - 202s 108ms/step - loss: 0.9664 - accuracy: 0.7057 - val_loss: 2.4664 - val_accuracy: 0.3415\n",
      "Epoch 4/5\n",
      "1870/1870 [==============================] - 206s 110ms/step - loss: 0.7081 - accuracy: 0.7867 - val_loss: 2.8807 - val_accuracy: 0.3269\n",
      "Epoch 5/5\n",
      "1870/1870 [==============================] - 209s 112ms/step - loss: 0.4279 - accuracy: 0.8728 - val_loss: 3.1009 - val_accuracy: 0.3135\n",
      "468/468 [==============================] - 7s 15ms/step\n",
      "Accuracy: 0.31\n",
      "Precision: 0.30\n",
      "Recall: 0.31\n",
      "F1-Score: 0.30\n"
     ]
    }
   ],
   "source": [
    "import pandas as pd\n",
    "import numpy as np\n",
    "from keras.models import Sequential\n",
    "from keras.layers import Dense, Embedding, SimpleRNN\n",
    "from keras.preprocessing.text import Tokenizer\n",
    "from keras.utils import pad_sequences\n",
    "from sklearn.model_selection import train_test_split\n",
    "from sklearn.metrics import classification_report, accuracy_score, precision_score, recall_score, f1_score\n",
    "\n",
    "# Load the dataset\n",
    "data = pd.read_csv('tweet_emotions2.csv',encoding=\"latin\")\n",
    "\n",
    "# Split the data into text and labels\n",
    "text = data['content'].astype(str).values\n",
    "labels = data['sentiment'].values\n",
    "\n",
    "# Tokenize the text\n",
    "tokenizer = Tokenizer()\n",
    "tokenizer.fit_on_texts(text)\n",
    "vocab_size = len(tokenizer.word_index) + 1\n",
    "sequences = tokenizer.texts_to_sequences(text)\n",
    "max_sequence_length = max([len(seq) for seq in sequences])\n",
    "padded_sequences = pad_sequences(sequences, maxlen=max_sequence_length)\n",
    "\n",
    "label_mapping = {'empty':0, 'sadness':1, 'enthusiasm':2, 'neutral':3, 'worry':4, 'surprise':5,\n",
    "       'love':6, 'fun':7, 'hate':8, 'happiness':9, 'boredom':10, 'relief':11, 'anger':12,\n",
    "       'joy':13, 'fear':14, 'shame':15, 'disgust':16}\n",
    "labels = np.array([label_mapping[label] for label in labels])\n",
    "\n",
    "# Split the data into training and testing sets\n",
    "X_train, X_test, y_train, y_test = train_test_split(padded_sequences, labels, test_size=0.2, random_state=42)\n",
    "\n",
    "# Define the RNN model\n",
    "model = Sequential()\n",
    "model.add(Embedding(vocab_size, 128, input_length=max_sequence_length))\n",
    "model.add(SimpleRNN(128))\n",
    "model.add(Dense(18, activation='softmax'))\n",
    "\n",
    "# Compile the model\n",
    "model.compile(loss='sparse_categorical_crossentropy', optimizer='adam', metrics=['accuracy'])\n",
    "\n",
    "# Train the model\n",
    "model.fit(X_train, y_train, epochs=5, batch_size=32, validation_data=(X_test, y_test))\n",
    "\n",
    "\n",
    "y_pred_prob = model.predict(X_test)\n",
    "y_pred = np.argmax(y_pred_prob, axis=1)\n",
    "\n",
    "\n",
    "accuracy = accuracy_score(y_test, y_pred)\n",
    "precision = precision_score(y_test, y_pred, average='weighted')\n",
    "recall = recall_score(y_test, y_pred, average='weighted')\n",
    "f1 = f1_score(y_test, y_pred, average='weighted')\n",
    "\n",
    "\n",
    "print(\"Accuracy: {:.2f}\".format(accuracy))\n",
    "print(\"Precision: {:.2f}\".format(precision))\n",
    "print(\"Recall: {:.2f}\".format(recall))\n",
    "print(\"F1-Score: {:.2f}\".format(f1))\n"
   ]
  },
  {
   "cell_type": "code",
   "execution_count": null,
   "id": "a105f416",
   "metadata": {},
   "outputs": [],
   "source": []
  }
 ],
 "metadata": {
  "kernelspec": {
   "display_name": "Python 3 (ipykernel)",
   "language": "python",
   "name": "python3"
  },
  "language_info": {
   "codemirror_mode": {
    "name": "ipython",
    "version": 3
   },
   "file_extension": ".py",
   "mimetype": "text/x-python",
   "name": "python",
   "nbconvert_exporter": "python",
   "pygments_lexer": "ipython3",
   "version": "3.11.0"
  }
 },
 "nbformat": 4,
 "nbformat_minor": 5
}
