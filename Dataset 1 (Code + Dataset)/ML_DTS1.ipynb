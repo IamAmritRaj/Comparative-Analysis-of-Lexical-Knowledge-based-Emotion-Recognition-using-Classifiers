{
 "cells": [
  {
   "cell_type": "code",
   "execution_count": 1,
   "id": "cba9ebd3",
   "metadata": {},
   "outputs": [],
   "source": [
    "import pandas as pd\n",
    "import nltk\n",
    "import re\n",
    "import string\n",
    "from sklearn.preprocessing import LabelEncoder\n",
    "from sklearn.model_selection import train_test_split"
   ]
  },
  {
   "cell_type": "code",
   "execution_count": 2,
   "id": "be8d2943",
   "metadata": {},
   "outputs": [
    {
     "data": {
      "text/html": [
       "<div>\n",
       "<style scoped>\n",
       "    .dataframe tbody tr th:only-of-type {\n",
       "        vertical-align: middle;\n",
       "    }\n",
       "\n",
       "    .dataframe tbody tr th {\n",
       "        vertical-align: top;\n",
       "    }\n",
       "\n",
       "    .dataframe thead th {\n",
       "        text-align: right;\n",
       "    }\n",
       "</style>\n",
       "<table border=\"1\" class=\"dataframe\">\n",
       "  <thead>\n",
       "    <tr style=\"text-align: right;\">\n",
       "      <th></th>\n",
       "      <th>sentiment</th>\n",
       "      <th>content</th>\n",
       "    </tr>\n",
       "  </thead>\n",
       "  <tbody>\n",
       "    <tr>\n",
       "      <th>0</th>\n",
       "      <td>empty</td>\n",
       "      <td>@tiffanylue i know  i was listenin to bad habi...</td>\n",
       "    </tr>\n",
       "    <tr>\n",
       "      <th>1</th>\n",
       "      <td>sadness</td>\n",
       "      <td>Layin n bed with a headache  ughhhh...waitin o...</td>\n",
       "    </tr>\n",
       "    <tr>\n",
       "      <th>2</th>\n",
       "      <td>sadness</td>\n",
       "      <td>Funeral ceremony...gloomy friday...</td>\n",
       "    </tr>\n",
       "    <tr>\n",
       "      <th>3</th>\n",
       "      <td>enthusiasm</td>\n",
       "      <td>wants to hang out with friends SOON!</td>\n",
       "    </tr>\n",
       "    <tr>\n",
       "      <th>4</th>\n",
       "      <td>neutral</td>\n",
       "      <td>@dannycastillo We want to trade with someone w...</td>\n",
       "    </tr>\n",
       "    <tr>\n",
       "      <th>...</th>\n",
       "      <td>...</td>\n",
       "      <td>...</td>\n",
       "    </tr>\n",
       "    <tr>\n",
       "      <th>74787</th>\n",
       "      <td>surprise</td>\n",
       "      <td>@MichelGW have you gift! Hope you like it! It'...</td>\n",
       "    </tr>\n",
       "    <tr>\n",
       "      <th>74788</th>\n",
       "      <td>joy</td>\n",
       "      <td>The world didnt give it to me..so the world MO...</td>\n",
       "    </tr>\n",
       "    <tr>\n",
       "      <th>74789</th>\n",
       "      <td>anger</td>\n",
       "      <td>A man robbed me today .</td>\n",
       "    </tr>\n",
       "    <tr>\n",
       "      <th>74790</th>\n",
       "      <td>fear</td>\n",
       "      <td>Youu call it JEALOUSY, I call it of #Losing YO...</td>\n",
       "    </tr>\n",
       "    <tr>\n",
       "      <th>74791</th>\n",
       "      <td>sadness</td>\n",
       "      <td>I think about you baby, and I dream about you ...</td>\n",
       "    </tr>\n",
       "  </tbody>\n",
       "</table>\n",
       "<p>74792 rows × 2 columns</p>\n",
       "</div>"
      ],
      "text/plain": [
       "        sentiment                                            content\n",
       "0           empty  @tiffanylue i know  i was listenin to bad habi...\n",
       "1         sadness  Layin n bed with a headache  ughhhh...waitin o...\n",
       "2         sadness                Funeral ceremony...gloomy friday...\n",
       "3      enthusiasm               wants to hang out with friends SOON!\n",
       "4         neutral  @dannycastillo We want to trade with someone w...\n",
       "...           ...                                                ...\n",
       "74787    surprise  @MichelGW have you gift! Hope you like it! It'...\n",
       "74788         joy  The world didnt give it to me..so the world MO...\n",
       "74789       anger                           A man robbed me today . \n",
       "74790        fear  Youu call it JEALOUSY, I call it of #Losing YO...\n",
       "74791     sadness  I think about you baby, and I dream about you ...\n",
       "\n",
       "[74792 rows x 2 columns]"
      ]
     },
     "execution_count": 2,
     "metadata": {},
     "output_type": "execute_result"
    }
   ],
   "source": [
    "df = pd.read_csv(\"tweet_emotions2.csv\", encoding='latin-1')\n",
    "df"
   ]
  },
  {
   "cell_type": "code",
   "execution_count": 3,
   "id": "6288a715",
   "metadata": {},
   "outputs": [
    {
     "data": {
      "text/plain": [
       "sadness       11887\n",
       "joy           11045\n",
       "neutral       10892\n",
       "worry          8459\n",
       "surprise       6249\n",
       "fear           5410\n",
       "happiness      5209\n",
       "anger          4407\n",
       "love           3842\n",
       "fun            1776\n",
       "relief         1526\n",
       "hate           1323\n",
       "disgust         856\n",
       "empty           827\n",
       "enthusiasm      759\n",
       "boredom         179\n",
       "shame           146\n",
       "Name: sentiment, dtype: int64"
      ]
     },
     "execution_count": 3,
     "metadata": {},
     "output_type": "execute_result"
    }
   ],
   "source": [
    "df.sentiment.value_counts()"
   ]
  },
  {
   "cell_type": "code",
   "execution_count": 3,
   "id": "2c217fb0",
   "metadata": {},
   "outputs": [],
   "source": [
    "import nltk\n",
    "from nltk.stem import WordNetLemmatizer\n",
    "from nltk.corpus import stopwords\n",
    "\n",
    "def clean_tokenized_lemmatized(tweet):\n",
    "    tweet = tweet.lower()                                                       #converting the text into lower\n",
    "    tweet = re.sub(r'@\\w+', '', tweet)                                          #removing @mentions\n",
    "    tweet = re.sub(r'#\\w+', '', tweet)                                          #removing hashtags\n",
    "    tweet = re.sub(r'http\\S+|www\\S+|https\\S+', '', tweet, flags=re.MULTILINE)   #removing url          \n",
    "    tweet = re.sub(r'[^\\w\\s]','',tweet)                                         #removing punctuations\n",
    "    tweet = re.sub(r'\\d+', '', tweet)                                           #removing numbers\n",
    "    tweet = re.sub(r'\\s+', ' ', tweet).strip()                                  #removing extra whitespaces  \n",
    "    \n",
    "    lemmatizer = WordNetLemmatizer()\n",
    "    stops = stopwords.words('english')\n",
    "    \n",
    "    tokens = nltk.word_tokenize(tweet)\n",
    "    tokens = [t for t in tokens if not t in stops]\n",
    "    fintokens = []\n",
    "    for token in tokens:\n",
    "        fintokens.append(lemmatizer.lemmatize(token))\n",
    "    finaltext = \" \"\n",
    "    return finaltext.join(fintokens)\n",
    "\n",
    "for i in df.index:\n",
    "    string = df['content'][i]\n",
    "    preprostr = clean_tokenized_lemmatized(string)\n",
    "    df.at[i, 'content'] = preprostr\n"
   ]
  },
  {
   "cell_type": "code",
   "execution_count": 4,
   "id": "7517043a",
   "metadata": {},
   "outputs": [],
   "source": [
    "positive = ['joy', 'surprise', 'happiness', 'love', 'fun', 'relief', 'enthusiasm']\n",
    "negative = ['sadness', 'worry', 'fear', 'anger', 'hate', 'disgust', 'boredom', 'shame']\n",
    "neutral = ['neutral', 'empty']\n",
    "def emotion_detection(value):\n",
    "    if value in positive:\n",
    "        return 1\n",
    "    elif value in negative:\n",
    "        return 0\n",
    "    else:\n",
    "        return 2\n",
    "df['emotion'] = df['sentiment'].map(emotion_detection)"
   ]
  },
  {
   "cell_type": "code",
   "execution_count": 5,
   "id": "ee3503c8",
   "metadata": {},
   "outputs": [
    {
     "data": {
      "text/html": [
       "<div>\n",
       "<style scoped>\n",
       "    .dataframe tbody tr th:only-of-type {\n",
       "        vertical-align: middle;\n",
       "    }\n",
       "\n",
       "    .dataframe tbody tr th {\n",
       "        vertical-align: top;\n",
       "    }\n",
       "\n",
       "    .dataframe thead th {\n",
       "        text-align: right;\n",
       "    }\n",
       "</style>\n",
       "<table border=\"1\" class=\"dataframe\">\n",
       "  <thead>\n",
       "    <tr style=\"text-align: right;\">\n",
       "      <th></th>\n",
       "      <th>sentiment</th>\n",
       "      <th>content</th>\n",
       "      <th>emotion</th>\n",
       "    </tr>\n",
       "  </thead>\n",
       "  <tbody>\n",
       "    <tr>\n",
       "      <th>0</th>\n",
       "      <td>empty</td>\n",
       "      <td>@tiffanylue i know  i was listenin to bad habi...</td>\n",
       "      <td>2</td>\n",
       "    </tr>\n",
       "    <tr>\n",
       "      <th>1</th>\n",
       "      <td>sadness</td>\n",
       "      <td>Layin n bed with a headache  ughhhh...waitin o...</td>\n",
       "      <td>0</td>\n",
       "    </tr>\n",
       "    <tr>\n",
       "      <th>2</th>\n",
       "      <td>sadness</td>\n",
       "      <td>Funeral ceremony...gloomy friday...</td>\n",
       "      <td>0</td>\n",
       "    </tr>\n",
       "    <tr>\n",
       "      <th>3</th>\n",
       "      <td>enthusiasm</td>\n",
       "      <td>wants to hang out with friends SOON!</td>\n",
       "      <td>1</td>\n",
       "    </tr>\n",
       "    <tr>\n",
       "      <th>4</th>\n",
       "      <td>neutral</td>\n",
       "      <td>@dannycastillo We want to trade with someone w...</td>\n",
       "      <td>2</td>\n",
       "    </tr>\n",
       "    <tr>\n",
       "      <th>...</th>\n",
       "      <td>...</td>\n",
       "      <td>...</td>\n",
       "      <td>...</td>\n",
       "    </tr>\n",
       "    <tr>\n",
       "      <th>74787</th>\n",
       "      <td>surprise</td>\n",
       "      <td>@MichelGW have you gift! Hope you like it! It'...</td>\n",
       "      <td>1</td>\n",
       "    </tr>\n",
       "    <tr>\n",
       "      <th>74788</th>\n",
       "      <td>joy</td>\n",
       "      <td>The world didnt give it to me..so the world MO...</td>\n",
       "      <td>1</td>\n",
       "    </tr>\n",
       "    <tr>\n",
       "      <th>74789</th>\n",
       "      <td>anger</td>\n",
       "      <td>A man robbed me today .</td>\n",
       "      <td>0</td>\n",
       "    </tr>\n",
       "    <tr>\n",
       "      <th>74790</th>\n",
       "      <td>fear</td>\n",
       "      <td>Youu call it JEALOUSY, I call it of #Losing YO...</td>\n",
       "      <td>0</td>\n",
       "    </tr>\n",
       "    <tr>\n",
       "      <th>74791</th>\n",
       "      <td>sadness</td>\n",
       "      <td>I think about you baby, and I dream about you ...</td>\n",
       "      <td>0</td>\n",
       "    </tr>\n",
       "  </tbody>\n",
       "</table>\n",
       "<p>74792 rows × 3 columns</p>\n",
       "</div>"
      ],
      "text/plain": [
       "        sentiment                                            content  emotion\n",
       "0           empty  @tiffanylue i know  i was listenin to bad habi...        2\n",
       "1         sadness  Layin n bed with a headache  ughhhh...waitin o...        0\n",
       "2         sadness                Funeral ceremony...gloomy friday...        0\n",
       "3      enthusiasm               wants to hang out with friends SOON!        1\n",
       "4         neutral  @dannycastillo We want to trade with someone w...        2\n",
       "...           ...                                                ...      ...\n",
       "74787    surprise  @MichelGW have you gift! Hope you like it! It'...        1\n",
       "74788         joy  The world didnt give it to me..so the world MO...        1\n",
       "74789       anger                           A man robbed me today .         0\n",
       "74790        fear  Youu call it JEALOUSY, I call it of #Losing YO...        0\n",
       "74791     sadness  I think about you baby, and I dream about you ...        0\n",
       "\n",
       "[74792 rows x 3 columns]"
      ]
     },
     "execution_count": 5,
     "metadata": {},
     "output_type": "execute_result"
    }
   ],
   "source": [
    "df"
   ]
  },
  {
   "cell_type": "code",
   "execution_count": 6,
   "id": "afe836ee",
   "metadata": {},
   "outputs": [
    {
     "data": {
      "text/plain": [
       "0    32667\n",
       "1    30406\n",
       "2    11719\n",
       "Name: emotion, dtype: int64"
      ]
     },
     "execution_count": 6,
     "metadata": {},
     "output_type": "execute_result"
    }
   ],
   "source": [
    "df.emotion.value_counts()"
   ]
  },
  {
   "cell_type": "code",
   "execution_count": 9,
   "id": "eab4d10e",
   "metadata": {},
   "outputs": [
    {
     "data": {
      "text/html": [
       "<div>\n",
       "<style scoped>\n",
       "    .dataframe tbody tr th:only-of-type {\n",
       "        vertical-align: middle;\n",
       "    }\n",
       "\n",
       "    .dataframe tbody tr th {\n",
       "        vertical-align: top;\n",
       "    }\n",
       "\n",
       "    .dataframe thead th {\n",
       "        text-align: right;\n",
       "    }\n",
       "</style>\n",
       "<table border=\"1\" class=\"dataframe\">\n",
       "  <thead>\n",
       "    <tr style=\"text-align: right;\">\n",
       "      <th></th>\n",
       "      <th>sentiment</th>\n",
       "      <th>content</th>\n",
       "      <th>emotion</th>\n",
       "    </tr>\n",
       "  </thead>\n",
       "  <tbody>\n",
       "    <tr>\n",
       "      <th>0</th>\n",
       "      <td>empty</td>\n",
       "      <td>know listenin bad habit earlier started freaki...</td>\n",
       "      <td>2</td>\n",
       "    </tr>\n",
       "    <tr>\n",
       "      <th>1</th>\n",
       "      <td>sadness</td>\n",
       "      <td>layin n bed headache ughhhhwaitin call</td>\n",
       "      <td>0</td>\n",
       "    </tr>\n",
       "    <tr>\n",
       "      <th>2</th>\n",
       "      <td>sadness</td>\n",
       "      <td>funeral ceremonygloomy friday</td>\n",
       "      <td>0</td>\n",
       "    </tr>\n",
       "    <tr>\n",
       "      <th>3</th>\n",
       "      <td>enthusiasm</td>\n",
       "      <td>want hang friend soon</td>\n",
       "      <td>1</td>\n",
       "    </tr>\n",
       "    <tr>\n",
       "      <th>4</th>\n",
       "      <td>neutral</td>\n",
       "      <td>want trade someone houston ticket one</td>\n",
       "      <td>2</td>\n",
       "    </tr>\n",
       "    <tr>\n",
       "      <th>...</th>\n",
       "      <td>...</td>\n",
       "      <td>...</td>\n",
       "      <td>...</td>\n",
       "    </tr>\n",
       "    <tr>\n",
       "      <th>74787</th>\n",
       "      <td>surprise</td>\n",
       "      <td>gift hope like hand made wear itll keep warm lol</td>\n",
       "      <td>1</td>\n",
       "    </tr>\n",
       "    <tr>\n",
       "      <th>74788</th>\n",
       "      <td>joy</td>\n",
       "      <td>world didnt give meso world definitely cnt tak...</td>\n",
       "      <td>1</td>\n",
       "    </tr>\n",
       "    <tr>\n",
       "      <th>74789</th>\n",
       "      <td>anger</td>\n",
       "      <td>man robbed today</td>\n",
       "      <td>0</td>\n",
       "    </tr>\n",
       "    <tr>\n",
       "      <th>74790</th>\n",
       "      <td>fear</td>\n",
       "      <td>youu call jealousy call</td>\n",
       "      <td>0</td>\n",
       "    </tr>\n",
       "    <tr>\n",
       "      <th>74791</th>\n",
       "      <td>sadness</td>\n",
       "      <td>think baby dream time</td>\n",
       "      <td>0</td>\n",
       "    </tr>\n",
       "  </tbody>\n",
       "</table>\n",
       "<p>74792 rows × 3 columns</p>\n",
       "</div>"
      ],
      "text/plain": [
       "        sentiment                                            content  emotion\n",
       "0           empty  know listenin bad habit earlier started freaki...        2\n",
       "1         sadness             layin n bed headache ughhhhwaitin call        0\n",
       "2         sadness                      funeral ceremonygloomy friday        0\n",
       "3      enthusiasm                              want hang friend soon        1\n",
       "4         neutral              want trade someone houston ticket one        2\n",
       "...           ...                                                ...      ...\n",
       "74787    surprise   gift hope like hand made wear itll keep warm lol        1\n",
       "74788         joy  world didnt give meso world definitely cnt tak...        1\n",
       "74789       anger                                   man robbed today        0\n",
       "74790        fear                            youu call jealousy call        0\n",
       "74791     sadness                              think baby dream time        0\n",
       "\n",
       "[74792 rows x 3 columns]"
      ]
     },
     "execution_count": 9,
     "metadata": {},
     "output_type": "execute_result"
    }
   ],
   "source": [
    "df"
   ]
  },
  {
   "cell_type": "code",
   "execution_count": 6,
   "id": "46ddcfdf",
   "metadata": {},
   "outputs": [],
   "source": [
    "le_sentiment = LabelEncoder()"
   ]
  },
  {
   "cell_type": "code",
   "execution_count": 7,
   "id": "e578bdde",
   "metadata": {},
   "outputs": [],
   "source": [
    "df['sentiment_n'] = le_sentiment.fit_transform(df['sentiment'])"
   ]
  },
  {
   "cell_type": "code",
   "execution_count": 8,
   "id": "93f73b2c",
   "metadata": {},
   "outputs": [
    {
     "data": {
      "text/html": [
       "<div>\n",
       "<style scoped>\n",
       "    .dataframe tbody tr th:only-of-type {\n",
       "        vertical-align: middle;\n",
       "    }\n",
       "\n",
       "    .dataframe tbody tr th {\n",
       "        vertical-align: top;\n",
       "    }\n",
       "\n",
       "    .dataframe thead th {\n",
       "        text-align: right;\n",
       "    }\n",
       "</style>\n",
       "<table border=\"1\" class=\"dataframe\">\n",
       "  <thead>\n",
       "    <tr style=\"text-align: right;\">\n",
       "      <th></th>\n",
       "      <th>sentiment</th>\n",
       "      <th>content</th>\n",
       "      <th>emotion</th>\n",
       "      <th>sentiment_n</th>\n",
       "    </tr>\n",
       "  </thead>\n",
       "  <tbody>\n",
       "    <tr>\n",
       "      <th>0</th>\n",
       "      <td>empty</td>\n",
       "      <td>know listenin bad habit earlier started freaki...</td>\n",
       "      <td>2</td>\n",
       "      <td>3</td>\n",
       "    </tr>\n",
       "    <tr>\n",
       "      <th>1</th>\n",
       "      <td>sadness</td>\n",
       "      <td>layin n bed headache ughhhhwaitin call</td>\n",
       "      <td>0</td>\n",
       "      <td>13</td>\n",
       "    </tr>\n",
       "    <tr>\n",
       "      <th>2</th>\n",
       "      <td>sadness</td>\n",
       "      <td>funeral ceremonygloomy friday</td>\n",
       "      <td>0</td>\n",
       "      <td>13</td>\n",
       "    </tr>\n",
       "    <tr>\n",
       "      <th>3</th>\n",
       "      <td>enthusiasm</td>\n",
       "      <td>want hang friend soon</td>\n",
       "      <td>1</td>\n",
       "      <td>4</td>\n",
       "    </tr>\n",
       "    <tr>\n",
       "      <th>4</th>\n",
       "      <td>neutral</td>\n",
       "      <td>want trade someone houston ticket one</td>\n",
       "      <td>2</td>\n",
       "      <td>11</td>\n",
       "    </tr>\n",
       "    <tr>\n",
       "      <th>...</th>\n",
       "      <td>...</td>\n",
       "      <td>...</td>\n",
       "      <td>...</td>\n",
       "      <td>...</td>\n",
       "    </tr>\n",
       "    <tr>\n",
       "      <th>74787</th>\n",
       "      <td>surprise</td>\n",
       "      <td>gift hope like hand made wear itll keep warm lol</td>\n",
       "      <td>1</td>\n",
       "      <td>15</td>\n",
       "    </tr>\n",
       "    <tr>\n",
       "      <th>74788</th>\n",
       "      <td>joy</td>\n",
       "      <td>world didnt give meso world definitely cnt tak...</td>\n",
       "      <td>1</td>\n",
       "      <td>9</td>\n",
       "    </tr>\n",
       "    <tr>\n",
       "      <th>74789</th>\n",
       "      <td>anger</td>\n",
       "      <td>man robbed today</td>\n",
       "      <td>0</td>\n",
       "      <td>0</td>\n",
       "    </tr>\n",
       "    <tr>\n",
       "      <th>74790</th>\n",
       "      <td>fear</td>\n",
       "      <td>youu call jealousy call</td>\n",
       "      <td>0</td>\n",
       "      <td>5</td>\n",
       "    </tr>\n",
       "    <tr>\n",
       "      <th>74791</th>\n",
       "      <td>sadness</td>\n",
       "      <td>think baby dream time</td>\n",
       "      <td>0</td>\n",
       "      <td>13</td>\n",
       "    </tr>\n",
       "  </tbody>\n",
       "</table>\n",
       "<p>74792 rows × 4 columns</p>\n",
       "</div>"
      ],
      "text/plain": [
       "        sentiment                                            content  emotion  \\\n",
       "0           empty  know listenin bad habit earlier started freaki...        2   \n",
       "1         sadness             layin n bed headache ughhhhwaitin call        0   \n",
       "2         sadness                      funeral ceremonygloomy friday        0   \n",
       "3      enthusiasm                              want hang friend soon        1   \n",
       "4         neutral              want trade someone houston ticket one        2   \n",
       "...           ...                                                ...      ...   \n",
       "74787    surprise   gift hope like hand made wear itll keep warm lol        1   \n",
       "74788         joy  world didnt give meso world definitely cnt tak...        1   \n",
       "74789       anger                                   man robbed today        0   \n",
       "74790        fear                            youu call jealousy call        0   \n",
       "74791     sadness                              think baby dream time        0   \n",
       "\n",
       "       sentiment_n  \n",
       "0                3  \n",
       "1               13  \n",
       "2               13  \n",
       "3                4  \n",
       "4               11  \n",
       "...            ...  \n",
       "74787           15  \n",
       "74788            9  \n",
       "74789            0  \n",
       "74790            5  \n",
       "74791           13  \n",
       "\n",
       "[74792 rows x 4 columns]"
      ]
     },
     "execution_count": 8,
     "metadata": {},
     "output_type": "execute_result"
    }
   ],
   "source": [
    "df"
   ]
  },
  {
   "cell_type": "code",
   "execution_count": 31,
   "id": "2a1bc945",
   "metadata": {},
   "outputs": [
    {
     "data": {
      "text/plain": [
       "13    11887\n",
       "9     11045\n",
       "11    10892\n",
       "16     8459\n",
       "15     6249\n",
       "5      5410\n",
       "7      5209\n",
       "0      4407\n",
       "10     3842\n",
       "6      1776\n",
       "12     1526\n",
       "8      1323\n",
       "2       856\n",
       "3       827\n",
       "4       759\n",
       "1       179\n",
       "14      146\n",
       "Name: sentiment_n, dtype: int64"
      ]
     },
     "execution_count": 31,
     "metadata": {},
     "output_type": "execute_result"
    }
   ],
   "source": [
    "df.sentiment_n.value_counts()"
   ]
  },
  {
   "cell_type": "code",
   "execution_count": 9,
   "id": "83e0bd6f",
   "metadata": {},
   "outputs": [],
   "source": [
    "X_train, X_test, y_train, y_test, z_train, z_test = train_test_split(\n",
    "    df.content, \n",
    "    df.sentiment_n,\n",
    "    df.emotion,\n",
    "    test_size=0.1, # 10% samples will go to test dataset\n",
    "    random_state=2022\n",
    ")"
   ]
  },
  {
   "cell_type": "code",
   "execution_count": 15,
   "id": "83418efa",
   "metadata": {},
   "outputs": [
    {
     "name": "stdout",
     "output_type": "stream",
     "text": [
      "(67312,)\n"
     ]
    },
    {
     "data": {
      "text/plain": [
       "72340        got ur pressie already bt u wont disappointed\n",
       "66741    caaauuuteahh forgot made bed morning aww thank...\n",
       "39901                                                 love\n",
       "40288    hate train ran one missed second saw drive awa...\n",
       "57798                                                  yes\n",
       "Name: content, dtype: object"
      ]
     },
     "execution_count": 15,
     "metadata": {},
     "output_type": "execute_result"
    }
   ],
   "source": [
    "print(X_train.shape)\n",
    "X_train.head()"
   ]
  },
  {
   "cell_type": "code",
   "execution_count": 16,
   "id": "d1deca0b",
   "metadata": {},
   "outputs": [
    {
     "data": {
      "text/plain": [
       "0    3281\n",
       "1    3032\n",
       "2    1167\n",
       "Name: emotion, dtype: int64"
      ]
     },
     "execution_count": 16,
     "metadata": {},
     "output_type": "execute_result"
    }
   ],
   "source": [
    "z_test.value_counts()\n"
   ]
  },
  {
   "cell_type": "code",
   "execution_count": 10,
   "id": "84f808d0",
   "metadata": {},
   "outputs": [],
   "source": [
    "from sklearn.pipeline import Pipeline\n",
    "from sklearn.metrics import classification_report\n",
    "from sklearn.feature_extraction.text import CountVectorizer\n",
    "from sklearn.svm import LinearSVC\n",
    "from sklearn.tree import DecisionTreeClassifier\n",
    "from sklearn.neighbors import KNeighborsClassifier\n",
    "from sklearn.naive_bayes import MultinomialNB\n",
    "from xgboost import XGBClassifier"
   ]
  },
  {
   "cell_type": "code",
   "execution_count": 22,
   "id": "bc96a16c",
   "metadata": {},
   "outputs": [],
   "source": [
    "clf = Pipeline([\n",
    "     ('vectorizer_bow', CountVectorizer(ngram_range = (1, 3))),\n",
    "     ('SVM', LinearSVC())         \n",
    "])"
   ]
  },
  {
   "cell_type": "code",
   "execution_count": 23,
   "id": "cd0d722c",
   "metadata": {},
   "outputs": [
    {
     "name": "stderr",
     "output_type": "stream",
     "text": [
      "C:\\Anaconda\\lib\\site-packages\\sklearn\\svm\\_base.py:1206: ConvergenceWarning: Liblinear failed to converge, increase the number of iterations.\n",
      "  warnings.warn(\n"
     ]
    },
    {
     "data": {
      "text/plain": [
       "Pipeline(steps=[('vectorizer_bow', CountVectorizer(ngram_range=(1, 3))),\n",
       "                ('SVM', LinearSVC())])"
      ]
     },
     "execution_count": 23,
     "metadata": {},
     "output_type": "execute_result"
    }
   ],
   "source": [
    "clf.fit(X_train, z_train)"
   ]
  },
  {
   "cell_type": "code",
   "execution_count": 25,
   "id": "6afa1d82",
   "metadata": {},
   "outputs": [],
   "source": [
    "z_pred = clf.predict(X_test)"
   ]
  },
  {
   "cell_type": "code",
   "execution_count": 26,
   "id": "0952c5fa",
   "metadata": {},
   "outputs": [
    {
     "name": "stdout",
     "output_type": "stream",
     "text": [
      "              precision    recall  f1-score   support\n",
      "\n",
      "           0       0.73      0.70      0.71      3281\n",
      "           1       0.68      0.66      0.67      3032\n",
      "           2       0.40      0.48      0.44      1167\n",
      "\n",
      "    accuracy                           0.65      7480\n",
      "   macro avg       0.60      0.61      0.61      7480\n",
      "weighted avg       0.66      0.65      0.65      7480\n",
      "\n"
     ]
    }
   ],
   "source": [
    "print(classification_report(z_test, z_pred))"
   ]
  },
  {
   "cell_type": "code",
   "execution_count": 27,
   "id": "5284de8b",
   "metadata": {},
   "outputs": [
    {
     "name": "stderr",
     "output_type": "stream",
     "text": [
      "C:\\Anaconda\\lib\\site-packages\\sklearn\\svm\\_base.py:1206: ConvergenceWarning: Liblinear failed to converge, increase the number of iterations.\n",
      "  warnings.warn(\n"
     ]
    },
    {
     "data": {
      "text/plain": [
       "Pipeline(steps=[('vectorizer_bow', CountVectorizer(ngram_range=(1, 3))),\n",
       "                ('SVM', LinearSVC())])"
      ]
     },
     "execution_count": 27,
     "metadata": {},
     "output_type": "execute_result"
    }
   ],
   "source": [
    "clf.fit(X_train, y_train)"
   ]
  },
  {
   "cell_type": "code",
   "execution_count": 28,
   "id": "2b1b1cc5",
   "metadata": {},
   "outputs": [],
   "source": [
    "y_pred = clf.predict(X_test)"
   ]
  },
  {
   "cell_type": "code",
   "execution_count": 29,
   "id": "83f026fe",
   "metadata": {},
   "outputs": [
    {
     "name": "stdout",
     "output_type": "stream",
     "text": [
      "              precision    recall  f1-score   support\n",
      "\n",
      "           0       0.60      0.50      0.54       418\n",
      "           1       0.00      0.00      0.00        12\n",
      "           2       0.65      0.17      0.27        78\n",
      "           3       0.05      0.02      0.03        97\n",
      "           4       0.12      0.03      0.04        74\n",
      "           5       0.77      0.69      0.73       556\n",
      "           6       0.19      0.06      0.09       190\n",
      "           7       0.27      0.28      0.27       484\n",
      "           8       0.26      0.15      0.19       157\n",
      "           9       0.54      0.58      0.56      1110\n",
      "          10       0.39      0.34      0.36       393\n",
      "          11       0.32      0.59      0.42      1070\n",
      "          12       0.09      0.04      0.05       152\n",
      "          13       0.43      0.43      0.43      1182\n",
      "          14       0.75      0.86      0.80        14\n",
      "          15       0.43      0.30      0.35       629\n",
      "          16       0.26      0.22      0.24       864\n",
      "\n",
      "    accuracy                           0.41      7480\n",
      "   macro avg       0.36      0.31      0.32      7480\n",
      "weighted avg       0.41      0.41      0.40      7480\n",
      "\n"
     ]
    }
   ],
   "source": [
    "print(classification_report(y_test, y_pred))"
   ]
  },
  {
   "cell_type": "code",
   "execution_count": 11,
   "id": "0fcb0193",
   "metadata": {},
   "outputs": [],
   "source": [
    "clf2 = Pipeline([\n",
    "     ('vectorizer_bow', CountVectorizer(ngram_range = (1, 3))),\n",
    "     ('DT', DecisionTreeClassifier())         \n",
    "])"
   ]
  },
  {
   "cell_type": "code",
   "execution_count": 12,
   "id": "d8452af2",
   "metadata": {},
   "outputs": [
    {
     "data": {
      "text/plain": [
       "Pipeline(steps=[('vectorizer_bow', CountVectorizer(ngram_range=(1, 3))),\n",
       "                ('DT', DecisionTreeClassifier())])"
      ]
     },
     "execution_count": 12,
     "metadata": {},
     "output_type": "execute_result"
    }
   ],
   "source": [
    "clf2.fit(X_train, z_train)"
   ]
  },
  {
   "cell_type": "code",
   "execution_count": 13,
   "id": "44c0266e",
   "metadata": {},
   "outputs": [],
   "source": [
    "z_pred = clf2.predict(X_test)"
   ]
  },
  {
   "cell_type": "code",
   "execution_count": 14,
   "id": "a5eb260a",
   "metadata": {},
   "outputs": [
    {
     "name": "stdout",
     "output_type": "stream",
     "text": [
      "              precision    recall  f1-score   support\n",
      "\n",
      "           0       0.67      0.65      0.66      3281\n",
      "           1       0.63      0.57      0.60      3032\n",
      "           2       0.34      0.45      0.39      1167\n",
      "\n",
      "    accuracy                           0.59      7480\n",
      "   macro avg       0.55      0.56      0.55      7480\n",
      "weighted avg       0.60      0.59      0.59      7480\n",
      "\n"
     ]
    }
   ],
   "source": [
    "print(classification_report(z_test, z_pred))"
   ]
  },
  {
   "cell_type": "code",
   "execution_count": 15,
   "id": "83c0f45c",
   "metadata": {},
   "outputs": [
    {
     "data": {
      "text/plain": [
       "Pipeline(steps=[('vectorizer_bow', CountVectorizer(ngram_range=(1, 3))),\n",
       "                ('DT', DecisionTreeClassifier())])"
      ]
     },
     "execution_count": 15,
     "metadata": {},
     "output_type": "execute_result"
    }
   ],
   "source": [
    "clf2.fit(X_train, y_train)"
   ]
  },
  {
   "cell_type": "code",
   "execution_count": 16,
   "id": "a54e7f2f",
   "metadata": {},
   "outputs": [],
   "source": [
    "y_pred = clf2.predict(X_test)"
   ]
  },
  {
   "cell_type": "code",
   "execution_count": 17,
   "id": "d9825eaa",
   "metadata": {},
   "outputs": [
    {
     "name": "stdout",
     "output_type": "stream",
     "text": [
      "              precision    recall  f1-score   support\n",
      "\n",
      "           0       0.49      0.42      0.45       418\n",
      "           1       0.00      0.00      0.00        12\n",
      "           2       0.30      0.13      0.18        78\n",
      "           3       0.02      0.01      0.01        97\n",
      "           4       0.02      0.01      0.02        74\n",
      "           5       0.73      0.61      0.66       556\n",
      "           6       0.07      0.03      0.04       190\n",
      "           7       0.20      0.18      0.19       484\n",
      "           8       0.25      0.18      0.21       157\n",
      "           9       0.44      0.44      0.44      1110\n",
      "          10       0.28      0.27      0.28       393\n",
      "          11       0.29      0.53      0.37      1070\n",
      "          12       0.07      0.04      0.05       152\n",
      "          13       0.36      0.35      0.36      1182\n",
      "          14       0.86      0.86      0.86        14\n",
      "          15       0.32      0.21      0.25       629\n",
      "          16       0.23      0.20      0.21       864\n",
      "\n",
      "    accuracy                           0.34      7480\n",
      "   macro avg       0.29      0.26      0.27      7480\n",
      "weighted avg       0.34      0.34      0.33      7480\n",
      "\n"
     ]
    }
   ],
   "source": [
    "print(classification_report(y_test, y_pred))"
   ]
  },
  {
   "cell_type": "code",
   "execution_count": 18,
   "id": "87412af4",
   "metadata": {},
   "outputs": [],
   "source": [
    "clf3 = Pipeline([\n",
    "     ('vectorizer_bow', CountVectorizer(ngram_range = (1, 3))),\n",
    "     ('XGB', XGBClassifier())         \n",
    "])"
   ]
  },
  {
   "cell_type": "code",
   "execution_count": 19,
   "id": "385f62dc",
   "metadata": {},
   "outputs": [
    {
     "data": {
      "text/plain": [
       "Pipeline(steps=[('vectorizer_bow', CountVectorizer(ngram_range=(1, 3))),\n",
       "                ('XGB',\n",
       "                 XGBClassifier(base_score=None, booster=None, callbacks=None,\n",
       "                               colsample_bylevel=None, colsample_bynode=None,\n",
       "                               colsample_bytree=None,\n",
       "                               early_stopping_rounds=None,\n",
       "                               enable_categorical=False, eval_metric=None,\n",
       "                               feature_types=None, gamma=None, gpu_id=None,\n",
       "                               grow_policy=None, importance_type=None,\n",
       "                               interaction_constraints=None, learning_rate=None,\n",
       "                               max_bin=None, max_cat_threshold=None,\n",
       "                               max_cat_to_onehot=None, max_delta_step=None,\n",
       "                               max_depth=None, max_leaves=None,\n",
       "                               min_child_weight=None, missing=nan,\n",
       "                               monotone_constraints=None, n_estimators=100,\n",
       "                               n_jobs=None, num_parallel_tree=None,\n",
       "                               objective='multi:softprob', predictor=None, ...))])"
      ]
     },
     "execution_count": 19,
     "metadata": {},
     "output_type": "execute_result"
    }
   ],
   "source": [
    "clf3.fit(X_train, z_train)"
   ]
  },
  {
   "cell_type": "code",
   "execution_count": 20,
   "id": "442d7b5d",
   "metadata": {},
   "outputs": [],
   "source": [
    "z_pred = clf3.predict(X_test)"
   ]
  },
  {
   "cell_type": "code",
   "execution_count": 21,
   "id": "3d7ce57e",
   "metadata": {},
   "outputs": [
    {
     "name": "stdout",
     "output_type": "stream",
     "text": [
      "              precision    recall  f1-score   support\n",
      "\n",
      "           0       0.57      0.83      0.68      3281\n",
      "           1       0.69      0.61      0.65      3032\n",
      "           2       0.56      0.04      0.07      1167\n",
      "\n",
      "    accuracy                           0.62      7480\n",
      "   macro avg       0.61      0.49      0.46      7480\n",
      "weighted avg       0.62      0.62      0.57      7480\n",
      "\n"
     ]
    }
   ],
   "source": [
    "print(classification_report(z_test, z_pred))"
   ]
  },
  {
   "cell_type": "code",
   "execution_count": 22,
   "id": "ba13c21a",
   "metadata": {},
   "outputs": [
    {
     "data": {
      "text/plain": [
       "Pipeline(steps=[('vectorizer_bow', CountVectorizer(ngram_range=(1, 3))),\n",
       "                ('XGB',\n",
       "                 XGBClassifier(base_score=None, booster=None, callbacks=None,\n",
       "                               colsample_bylevel=None, colsample_bynode=None,\n",
       "                               colsample_bytree=None,\n",
       "                               early_stopping_rounds=None,\n",
       "                               enable_categorical=False, eval_metric=None,\n",
       "                               feature_types=None, gamma=None, gpu_id=None,\n",
       "                               grow_policy=None, importance_type=None,\n",
       "                               interaction_constraints=None, learning_rate=None,\n",
       "                               max_bin=None, max_cat_threshold=None,\n",
       "                               max_cat_to_onehot=None, max_delta_step=None,\n",
       "                               max_depth=None, max_leaves=None,\n",
       "                               min_child_weight=None, missing=nan,\n",
       "                               monotone_constraints=None, n_estimators=100,\n",
       "                               n_jobs=None, num_parallel_tree=None,\n",
       "                               objective='multi:softprob', predictor=None, ...))])"
      ]
     },
     "execution_count": 22,
     "metadata": {},
     "output_type": "execute_result"
    }
   ],
   "source": [
    "clf3.fit(X_train, y_train)"
   ]
  },
  {
   "cell_type": "code",
   "execution_count": 47,
   "id": "e0e39ef0",
   "metadata": {},
   "outputs": [],
   "source": [
    "y_pred = clf3.predict(X_test)"
   ]
  },
  {
   "cell_type": "code",
   "execution_count": 23,
   "id": "cb06e645",
   "metadata": {},
   "outputs": [
    {
     "name": "stdout",
     "output_type": "stream",
     "text": [
      "              precision    recall  f1-score   support\n",
      "\n",
      "           0       0.49      0.42      0.45       418\n",
      "           1       0.00      0.00      0.00        12\n",
      "           2       0.30      0.13      0.18        78\n",
      "           3       0.02      0.01      0.01        97\n",
      "           4       0.02      0.01      0.02        74\n",
      "           5       0.73      0.61      0.66       556\n",
      "           6       0.07      0.03      0.04       190\n",
      "           7       0.20      0.18      0.19       484\n",
      "           8       0.25      0.18      0.21       157\n",
      "           9       0.44      0.44      0.44      1110\n",
      "          10       0.28      0.27      0.28       393\n",
      "          11       0.29      0.53      0.37      1070\n",
      "          12       0.07      0.04      0.05       152\n",
      "          13       0.36      0.35      0.36      1182\n",
      "          14       0.86      0.86      0.86        14\n",
      "          15       0.32      0.21      0.25       629\n",
      "          16       0.23      0.20      0.21       864\n",
      "\n",
      "    accuracy                           0.34      7480\n",
      "   macro avg       0.29      0.26      0.27      7480\n",
      "weighted avg       0.34      0.34      0.33      7480\n",
      "\n"
     ]
    }
   ],
   "source": [
    "print(classification_report(y_test, y_pred))"
   ]
  },
  {
   "cell_type": "code",
   "execution_count": 25,
   "id": "e719a53f",
   "metadata": {},
   "outputs": [],
   "source": [
    "clf4 = Pipeline([\n",
    "     ('vectorizer_bow', CountVectorizer(ngram_range = (1, 3))),\n",
    "     ('NB', MultinomialNB())         \n",
    "])"
   ]
  },
  {
   "cell_type": "code",
   "execution_count": 26,
   "id": "45c7b2de",
   "metadata": {},
   "outputs": [
    {
     "data": {
      "text/plain": [
       "Pipeline(steps=[('vectorizer_bow', CountVectorizer(ngram_range=(1, 3))),\n",
       "                ('NB', MultinomialNB())])"
      ]
     },
     "execution_count": 26,
     "metadata": {},
     "output_type": "execute_result"
    }
   ],
   "source": [
    "clf4.fit(X_train, z_train)"
   ]
  },
  {
   "cell_type": "code",
   "execution_count": 27,
   "id": "bdb31377",
   "metadata": {},
   "outputs": [],
   "source": [
    "z_pred = clf4.predict(X_test)"
   ]
  },
  {
   "cell_type": "code",
   "execution_count": 28,
   "id": "f7e91aee",
   "metadata": {},
   "outputs": [
    {
     "name": "stdout",
     "output_type": "stream",
     "text": [
      "              precision    recall  f1-score   support\n",
      "\n",
      "           0       0.64      0.80      0.71      3281\n",
      "           1       0.65      0.71      0.68      3032\n",
      "           2       0.58      0.01      0.02      1167\n",
      "\n",
      "    accuracy                           0.64      7480\n",
      "   macro avg       0.62      0.51      0.47      7480\n",
      "weighted avg       0.63      0.64      0.59      7480\n",
      "\n"
     ]
    }
   ],
   "source": [
    "print(classification_report(z_test, z_pred))"
   ]
  },
  {
   "cell_type": "code",
   "execution_count": 29,
   "id": "073075fe",
   "metadata": {},
   "outputs": [
    {
     "data": {
      "text/plain": [
       "Pipeline(steps=[('vectorizer_bow', CountVectorizer(ngram_range=(1, 3))),\n",
       "                ('NB', MultinomialNB())])"
      ]
     },
     "execution_count": 29,
     "metadata": {},
     "output_type": "execute_result"
    }
   ],
   "source": [
    "clf4.fit(X_train, y_train)"
   ]
  },
  {
   "cell_type": "code",
   "execution_count": 32,
   "id": "63f4e702",
   "metadata": {},
   "outputs": [],
   "source": [
    "y_pred = clf4.predict(X_test)"
   ]
  },
  {
   "cell_type": "code",
   "execution_count": 33,
   "id": "a57cf9db",
   "metadata": {},
   "outputs": [
    {
     "name": "stdout",
     "output_type": "stream",
     "text": [
      "              precision    recall  f1-score   support\n",
      "\n",
      "           0       0.89      0.33      0.49       418\n",
      "           1       0.00      0.00      0.00        12\n",
      "           2       1.00      0.06      0.12        78\n",
      "           3       0.00      0.00      0.00        97\n",
      "           4       0.00      0.00      0.00        74\n",
      "           5       0.88      0.59      0.70       556\n",
      "           6       0.00      0.00      0.00       190\n",
      "           7       0.31      0.12      0.17       484\n",
      "           8       0.00      0.00      0.00       157\n",
      "           9       0.40      0.74      0.51      1110\n",
      "          10       0.64      0.18      0.29       393\n",
      "          11       0.36      0.23      0.28      1070\n",
      "          12       0.00      0.00      0.00       152\n",
      "          13       0.27      0.72      0.39      1182\n",
      "          14       0.00      0.00      0.00        14\n",
      "          15       0.64      0.15      0.25       629\n",
      "          16       0.28      0.20      0.23       864\n",
      "\n",
      "    accuracy                           0.37      7480\n",
      "   macro avg       0.33      0.20      0.20      7480\n",
      "weighted avg       0.42      0.37      0.33      7480\n",
      "\n"
     ]
    },
    {
     "name": "stderr",
     "output_type": "stream",
     "text": [
      "C:\\Anaconda\\lib\\site-packages\\sklearn\\metrics\\_classification.py:1318: UndefinedMetricWarning: Precision and F-score are ill-defined and being set to 0.0 in labels with no predicted samples. Use `zero_division` parameter to control this behavior.\n",
      "  _warn_prf(average, modifier, msg_start, len(result))\n",
      "C:\\Anaconda\\lib\\site-packages\\sklearn\\metrics\\_classification.py:1318: UndefinedMetricWarning: Precision and F-score are ill-defined and being set to 0.0 in labels with no predicted samples. Use `zero_division` parameter to control this behavior.\n",
      "  _warn_prf(average, modifier, msg_start, len(result))\n",
      "C:\\Anaconda\\lib\\site-packages\\sklearn\\metrics\\_classification.py:1318: UndefinedMetricWarning: Precision and F-score are ill-defined and being set to 0.0 in labels with no predicted samples. Use `zero_division` parameter to control this behavior.\n",
      "  _warn_prf(average, modifier, msg_start, len(result))\n"
     ]
    }
   ],
   "source": [
    "print(classification_report(y_test, y_pred))"
   ]
  },
  {
   "cell_type": "code",
   "execution_count": null,
   "id": "4944013f",
   "metadata": {},
   "outputs": [],
   "source": []
  }
 ],
 "metadata": {
  "kernelspec": {
   "display_name": "Python 3 (ipykernel)",
   "language": "python",
   "name": "python3"
  },
  "language_info": {
   "codemirror_mode": {
    "name": "ipython",
    "version": 3
   },
   "file_extension": ".py",
   "mimetype": "text/x-python",
   "name": "python",
   "nbconvert_exporter": "python",
   "pygments_lexer": "ipython3",
   "version": "3.9.13"
  }
 },
 "nbformat": 4,
 "nbformat_minor": 5
}
